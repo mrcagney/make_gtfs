{
 "cells": [
  {
   "cell_type": "code",
   "execution_count": null,
   "metadata": {},
   "outputs": [],
   "source": [
    "import sys\n",
    "import pathlib as pl\n",
    "\n",
    "import pandas as pd\n",
    "import numpy as np\n",
    "import gtfs_kit as gk\n",
    "\n",
    "sys.path.append('../')\n",
    "\n",
    "import make_gtfs as mg\n",
    "\n",
    "\n",
    "DATA_DIR = pl.Path('../data')\n",
    "\n",
    "%load_ext autoreload\n",
    "%autoreload 2\n"
   ]
  },
  {
   "cell_type": "code",
   "execution_count": null,
   "metadata": {},
   "outputs": [],
   "source": [
    "path = DATA_DIR / 'auckland'\n",
    "pfeed = mg.read_protofeed(path)\n",
    "feed = mg.build_feed(pfeed)\n",
    "print(feed)"
   ]
  },
  {
   "cell_type": "code",
   "execution_count": null,
   "metadata": {},
   "outputs": [],
   "source": [
    "f = (\n",
    "    feed.routes[['route_id', 'route_short_name']]\n",
    "    .merge(pfeed.frequencies)\n",
    "    .merge(pfeed.service_windows)\n",
    "    .sort_values('route_id')\n",
    ")\n",
    "f"
   ]
  },
  {
   "cell_type": "code",
   "execution_count": null,
   "metadata": {},
   "outputs": [],
   "source": [
    "# Map some trips\n",
    "prefix = 't-rB-weekday_peak_1-07:00:00'\n",
    "t = (\n",
    "    feed.trips\n",
    "    .loc[lambda x: x.trip_id.str.startswith(prefix)]\n",
    ")\n",
    "tids = [t.trip_id.iat[0], t.trip_id.iat[-1]]\n",
    "feed.map_trips(tids, include_arrows=True)\n",
    "    "
   ]
  }
 ],
 "metadata": {
  "kernelspec": {
   "display_name": "Python 3 (ipykernel)",
   "language": "python",
   "name": "python3"
  },
  "language_info": {
   "codemirror_mode": {
    "name": "ipython",
    "version": 3
   },
   "file_extension": ".py",
   "mimetype": "text/x-python",
   "name": "python",
   "nbconvert_exporter": "python",
   "pygments_lexer": "ipython3",
   "version": "3.9.13"
  }
 },
 "nbformat": 4,
 "nbformat_minor": 1
}
