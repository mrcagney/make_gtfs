{
 "cells": [
  {
   "cell_type": "code",
   "execution_count": 4,
   "metadata": {},
   "outputs": [
    {
     "name": "stdout",
     "output_type": "stream",
     "text": [
      "The autoreload extension is already loaded. To reload it, use:\n",
      "  %reload_ext autoreload\n"
     ]
    }
   ],
   "source": [
    "import sys\n",
    "import pathlib as pl\n",
    "import warnings\n",
    "\n",
    "import pandas as pd\n",
    "import numpy as np\n",
    "import gtfs_kit as gk\n",
    "import folium as fl\n",
    "\n",
    "sys.path.append('../')\n",
    "\n",
    "import make_gtfs as mg\n",
    "\n",
    "\n",
    "DATA_DIR = pl.Path('../data')\n",
    "\n",
    "%load_ext autoreload\n",
    "%autoreload 2\n",
    "\n",
    "warnings.filterwarnings(action='ignore')"
   ]
  },
  {
   "cell_type": "code",
   "execution_count": 11,
   "metadata": {},
   "outputs": [
    {
     "data": {
      "text/plain": [
       "ProtoFeed(meta=          agency_name           agency_url   agency_timezone start_date  \\\n",
       "0  Auckland Transport  https://at.govt.nz/  Pacific/Auckland   20140101   \n",
       "\n",
       "   end_date  speed_route_type_3  speed_route_type_7  \n",
       "0  20150101                  20                  30  , service_windows=  service_window_id start_time  end_time  monday  tuesday  wednesday  \\\n",
       "0    weekday_peak_1   07:00:00  09:00:00       1        1          1   \n",
       "\n",
       "   thursday  friday  saturday  sunday  \n",
       "0         1       1         0       0  , shapes=  shape_id                                           geometry\n",
       "0     shp1  LINESTRING (174.76703 -36.84444, 174.76740 -36...\n",
       "1     shp2  LINESTRING (174.74414 -36.84742, 174.74380 -36..., frequencies=  route_short_name route_long_name  route_type shape_id service_window_id  \\\n",
       "0                A    A nice route           3     shp1    weekday_peak_1   \n",
       "\n",
       "   frequency  direction  speed  \n",
       "0          1          1   22.0  , stops=None, speed_zones=                                            geometry  route_type  \\\n",
       "0  POLYGON ((174.78289 -36.87755, 174.74380 -36.8...         NaN   \n",
       "\n",
       "  speed_zone_id  speed  \n",
       "0       default    inf  )"
      ]
     },
     "execution_count": 11,
     "metadata": {},
     "output_type": "execute_result"
    }
   ],
   "source": [
    "path = DATA_DIR / 'auckland_light'\n",
    "pfeed = mg.read_protofeed(path)\n",
    "pfeed"
   ]
  },
  {
   "cell_type": "code",
   "execution_count": 19,
   "metadata": {},
   "outputs": [
    {
     "data": {
      "text/html": [
       "<div>\n",
       "<style scoped>\n",
       "    .dataframe tbody tr th:only-of-type {\n",
       "        vertical-align: middle;\n",
       "    }\n",
       "\n",
       "    .dataframe tbody tr th {\n",
       "        vertical-align: top;\n",
       "    }\n",
       "\n",
       "    .dataframe thead th {\n",
       "        text-align: right;\n",
       "    }\n",
       "</style>\n",
       "<table border=\"1\" class=\"dataframe\">\n",
       "  <thead>\n",
       "    <tr style=\"text-align: right;\">\n",
       "      <th></th>\n",
       "      <th>route_short_name</th>\n",
       "      <th>route_long_name</th>\n",
       "      <th>route_type</th>\n",
       "      <th>shape_id</th>\n",
       "      <th>service_window_id</th>\n",
       "      <th>frequency</th>\n",
       "      <th>direction</th>\n",
       "      <th>speed</th>\n",
       "    </tr>\n",
       "  </thead>\n",
       "  <tbody>\n",
       "    <tr>\n",
       "      <th>0</th>\n",
       "      <td>A</td>\n",
       "      <td>A nice route</td>\n",
       "      <td>3</td>\n",
       "      <td>shp1</td>\n",
       "      <td>weekday_peak_1</td>\n",
       "      <td>1</td>\n",
       "      <td>1</td>\n",
       "      <td>22.0</td>\n",
       "    </tr>\n",
       "  </tbody>\n",
       "</table>\n",
       "</div>"
      ],
      "text/plain": [
       "  route_short_name route_long_name  route_type shape_id service_window_id  \\\n",
       "0                A    A nice route           3     shp1    weekday_peak_1   \n",
       "\n",
       "   frequency  direction  speed  \n",
       "0          1          1   22.0  "
      ]
     },
     "execution_count": 19,
     "metadata": {},
     "output_type": "execute_result"
    }
   ],
   "source": [
    "pfeed.frequencies"
   ]
  },
  {
   "cell_type": "code",
   "execution_count": 12,
   "metadata": {},
   "outputs": [
    {
     "data": {
      "text/html": [
       "<div>\n",
       "<style scoped>\n",
       "    .dataframe tbody tr th:only-of-type {\n",
       "        vertical-align: middle;\n",
       "    }\n",
       "\n",
       "    .dataframe tbody tr th {\n",
       "        vertical-align: top;\n",
       "    }\n",
       "\n",
       "    .dataframe thead th {\n",
       "        text-align: right;\n",
       "    }\n",
       "</style>\n",
       "<table border=\"1\" class=\"dataframe\">\n",
       "  <thead>\n",
       "    <tr style=\"text-align: right;\">\n",
       "      <th></th>\n",
       "      <th>geometry</th>\n",
       "      <th>route_type</th>\n",
       "      <th>speed_zone_id</th>\n",
       "      <th>speed</th>\n",
       "    </tr>\n",
       "  </thead>\n",
       "  <tbody>\n",
       "    <tr>\n",
       "      <th>0</th>\n",
       "      <td>POLYGON ((174.78289 -36.87755, 174.74380 -36.8...</td>\n",
       "      <td>NaN</td>\n",
       "      <td>default</td>\n",
       "      <td>inf</td>\n",
       "    </tr>\n",
       "  </tbody>\n",
       "</table>\n",
       "</div>"
      ],
      "text/plain": [
       "                                            geometry  route_type  \\\n",
       "0  POLYGON ((174.78289 -36.87755, 174.74380 -36.8...         NaN   \n",
       "\n",
       "  speed_zone_id  speed  \n",
       "0       default    inf  "
      ]
     },
     "metadata": {},
     "output_type": "display_data"
    },
    {
     "data": {
      "text/html": [
       "<div style=\"width:100%;\"><div style=\"position:relative;width:100%;height:0;padding-bottom:60%;\"><span style=\"color:#565656\">Make this Notebook Trusted to load map: File -> Trust Notebook</span><iframe srcdoc=\"&lt;!DOCTYPE html&gt;\n",
       "&lt;head&gt;    \n",
       "    &lt;meta http-equiv=&quot;content-type&quot; content=&quot;text/html; charset=UTF-8&quot; /&gt;\n",
       "    \n",
       "        &lt;script&gt;\n",
       "            L_NO_TOUCH = false;\n",
       "            L_DISABLE_3D = false;\n",
       "        &lt;/script&gt;\n",
       "    \n",
       "    &lt;style&gt;html, body {width: 100%;height: 100%;margin: 0;padding: 0;}&lt;/style&gt;\n",
       "    &lt;style&gt;#map {position:absolute;top:0;bottom:0;right:0;left:0;}&lt;/style&gt;\n",
       "    &lt;script src=&quot;https://cdn.jsdelivr.net/npm/leaflet@1.6.0/dist/leaflet.js&quot;&gt;&lt;/script&gt;\n",
       "    &lt;script src=&quot;https://code.jquery.com/jquery-1.12.4.min.js&quot;&gt;&lt;/script&gt;\n",
       "    &lt;script src=&quot;https://maxcdn.bootstrapcdn.com/bootstrap/3.2.0/js/bootstrap.min.js&quot;&gt;&lt;/script&gt;\n",
       "    &lt;script src=&quot;https://cdnjs.cloudflare.com/ajax/libs/Leaflet.awesome-markers/2.0.2/leaflet.awesome-markers.js&quot;&gt;&lt;/script&gt;\n",
       "    &lt;link rel=&quot;stylesheet&quot; href=&quot;https://cdn.jsdelivr.net/npm/leaflet@1.6.0/dist/leaflet.css&quot;/&gt;\n",
       "    &lt;link rel=&quot;stylesheet&quot; href=&quot;https://maxcdn.bootstrapcdn.com/bootstrap/3.2.0/css/bootstrap.min.css&quot;/&gt;\n",
       "    &lt;link rel=&quot;stylesheet&quot; href=&quot;https://maxcdn.bootstrapcdn.com/bootstrap/3.2.0/css/bootstrap-theme.min.css&quot;/&gt;\n",
       "    &lt;link rel=&quot;stylesheet&quot; href=&quot;https://maxcdn.bootstrapcdn.com/font-awesome/4.6.3/css/font-awesome.min.css&quot;/&gt;\n",
       "    &lt;link rel=&quot;stylesheet&quot; href=&quot;https://cdnjs.cloudflare.com/ajax/libs/Leaflet.awesome-markers/2.0.2/leaflet.awesome-markers.css&quot;/&gt;\n",
       "    &lt;link rel=&quot;stylesheet&quot; href=&quot;https://cdn.jsdelivr.net/gh/python-visualization/folium/folium/templates/leaflet.awesome.rotate.min.css&quot;/&gt;\n",
       "    \n",
       "            &lt;meta name=&quot;viewport&quot; content=&quot;width=device-width,\n",
       "                initial-scale=1.0, maximum-scale=1.0, user-scalable=no&quot; /&gt;\n",
       "            &lt;style&gt;\n",
       "                #map_f16bff025574391070222dd2e5324c78 {\n",
       "                    position: relative;\n",
       "                    width: 100.0%;\n",
       "                    height: 100.0%;\n",
       "                    left: 0.0%;\n",
       "                    top: 0.0%;\n",
       "                }\n",
       "            &lt;/style&gt;\n",
       "        \n",
       "    \n",
       "                    &lt;style&gt;\n",
       "                        .foliumtooltip {\n",
       "                            \n",
       "                        }\n",
       "                       .foliumtooltip table{\n",
       "                            margin: auto;\n",
       "                        }\n",
       "                        .foliumtooltip tr{\n",
       "                            text-align: left;\n",
       "                        }\n",
       "                        .foliumtooltip th{\n",
       "                            padding: 2px; padding-right: 8px;\n",
       "                        }\n",
       "                    &lt;/style&gt;\n",
       "            \n",
       "&lt;/head&gt;\n",
       "&lt;body&gt;    \n",
       "    \n",
       "            &lt;div class=&quot;folium-map&quot; id=&quot;map_f16bff025574391070222dd2e5324c78&quot; &gt;&lt;/div&gt;\n",
       "        \n",
       "&lt;/body&gt;\n",
       "&lt;script&gt;    \n",
       "    \n",
       "            var map_f16bff025574391070222dd2e5324c78 = L.map(\n",
       "                &quot;map_f16bff025574391070222dd2e5324c78&quot;,\n",
       "                {\n",
       "                    center: [0, 0],\n",
       "                    crs: L.CRS.EPSG3857,\n",
       "                    zoom: 1,\n",
       "                    zoomControl: true,\n",
       "                    preferCanvas: false,\n",
       "                }\n",
       "            );\n",
       "\n",
       "            \n",
       "\n",
       "        \n",
       "    \n",
       "            var tile_layer_a74a9c9949116d2a49cdbd2ce802d192 = L.tileLayer(\n",
       "                &quot;https://cartodb-basemaps-{s}.global.ssl.fastly.net/light_all/{z}/{x}/{y}.png&quot;,\n",
       "                {&quot;attribution&quot;: &quot;\\u0026copy; \\u003ca href=\\&quot;http://www.openstreetmap.org/copyright\\&quot;\\u003eOpenStreetMap\\u003c/a\\u003e contributors \\u0026copy; \\u003ca href=\\&quot;http://cartodb.com/attributions\\&quot;\\u003eCartoDB\\u003c/a\\u003e, CartoDB \\u003ca href =\\&quot;http://cartodb.com/attributions\\&quot;\\u003eattributions\\u003c/a\\u003e&quot;, &quot;detectRetina&quot;: false, &quot;maxNativeZoom&quot;: 18, &quot;maxZoom&quot;: 18, &quot;minZoom&quot;: 0, &quot;noWrap&quot;: false, &quot;opacity&quot;: 1, &quot;subdomains&quot;: &quot;abc&quot;, &quot;tms&quot;: false}\n",
       "            ).addTo(map_f16bff025574391070222dd2e5324c78);\n",
       "        \n",
       "    \n",
       "\n",
       "        function geo_json_4b7cc4b96285ce541eb70174f80265fa_onEachFeature(feature, layer) {\n",
       "            layer.on({\n",
       "            });\n",
       "        };\n",
       "        var geo_json_4b7cc4b96285ce541eb70174f80265fa = L.geoJson(null, {\n",
       "                onEachFeature: geo_json_4b7cc4b96285ce541eb70174f80265fa_onEachFeature,\n",
       "            \n",
       "        });\n",
       "\n",
       "        function geo_json_4b7cc4b96285ce541eb70174f80265fa_add (data) {\n",
       "            geo_json_4b7cc4b96285ce541eb70174f80265fa\n",
       "                .addData(data)\n",
       "                .addTo(map_f16bff025574391070222dd2e5324c78);\n",
       "        }\n",
       "            geo_json_4b7cc4b96285ce541eb70174f80265fa_add({&quot;bbox&quot;: [174.733802, -36.87755, 174.79288699999998, -36.833364], &quot;features&quot;: [{&quot;bbox&quot;: [174.733802, -36.87755, 174.79288699999998, -36.833364], &quot;geometry&quot;: {&quot;coordinates&quot;: [[[174.782887, -36.87755], [174.743802, -36.87755], [174.7428218285967, -36.87750184726672], [174.74185109677984, -36.87735785280403], [174.74089915322745, -36.87711940335733], [174.73997516567633, -36.87678879532511], [174.73908803263174, -36.87636921264348], [174.7382462976698, -36.875864696123024], [174.73745806715834, -36.87528010453363], [174.73673093218812, -36.874621067811866], [174.73607189546635, -36.87389393284164], [174.73548730387697, -36.8731057023302], [174.7349827873565, -36.87226396736826], [174.73456320467488, -36.871376834323655], [174.73423259664267, -36.870452846772544], [174.73399414719594, -36.869500903220164], [174.73385015273325, -36.8685301714033], [174.733802, -36.86755], [174.733802, -36.843364], [174.73385015273325, -36.8423838285967], [174.73399414719594, -36.84141309677984], [174.73423259664267, -36.84046115322746], [174.73456320467488, -36.83953716567635], [174.7349827873565, -36.83865003263174], [174.73548730387697, -36.8378082976698], [174.73607189546635, -36.83702006715836], [174.73673093218812, -36.83629293218814], [174.73745806715834, -36.83563389546637], [174.7382462976698, -36.83504930387698], [174.73908803263174, -36.83454478735652], [174.73997516567633, -36.83412520467489], [174.74089915322745, -36.833794596642676], [174.74185109677984, -36.83355614719597], [174.7428218285967, -36.83341215273328], [174.743802, -36.833364], [174.782887, -36.833364], [174.78386717140327, -36.83341215273328], [174.78483790322014, -36.83355614719597], [174.78578984677253, -36.833794596642676], [174.78671383432365, -36.83412520467489], [174.78760096736823, -36.83454478735652], [174.78844270233017, -36.83504930387698], [174.78923093284163, -36.83563389546637], [174.78995806781185, -36.83629293218814], [174.79061710453362, -36.83702006715836], [174.791201696123, -36.8378082976698], [174.79170621264348, -36.83865003263174], [174.7921257953251, -36.83953716567635], [174.7924564033573, -36.84046115322746], [174.79269485280403, -36.84141309677984], [174.79283884726672, -36.8423838285967], [174.79288699999998, -36.843364], [174.79288699999998, -36.86755], [174.79283884726672, -36.8685301714033], [174.79269485280403, -36.869500903220164], [174.7924564033573, -36.870452846772544], [174.7921257953251, -36.871376834323655], [174.79170621264348, -36.87226396736826], [174.791201696123, -36.8731057023302], [174.79061710453362, -36.87389393284164], [174.78995806781185, -36.874621067811866], [174.78923093284163, -36.87528010453363], [174.78844270233017, -36.875864696123024], [174.78760096736823, -36.87636921264348], [174.78671383432365, -36.87678879532511], [174.78578984677253, -36.87711940335733], [174.78483790322014, -36.87735785280403], [174.78386717140327, -36.87750184726672], [174.782887, -36.87755]]], &quot;type&quot;: &quot;Polygon&quot;}, &quot;id&quot;: &quot;0&quot;, &quot;properties&quot;: {&quot;route_type&quot;: null, &quot;speed&quot;: Infinity, &quot;speed_zone_id&quot;: &quot;default&quot;}, &quot;type&quot;: &quot;Feature&quot;}], &quot;type&quot;: &quot;FeatureCollection&quot;});\n",
       "\n",
       "        \n",
       "    \n",
       "    geo_json_4b7cc4b96285ce541eb70174f80265fa.bindTooltip(\n",
       "    function(layer){\n",
       "    let div = L.DomUtil.create(&#x27;div&#x27;);\n",
       "    \n",
       "    let handleObject = feature=&gt;typeof(feature)==&#x27;object&#x27; ? JSON.stringify(feature) : feature;\n",
       "    let fields = [&quot;speed_zone_id&quot;, &quot;speed&quot;];\n",
       "    let aliases = [&quot;speed_zone_id&quot;, &quot;speed&quot;];\n",
       "    let table = &#x27;&lt;table&gt;&#x27; +\n",
       "        String(\n",
       "        fields.map(\n",
       "        (v,i)=&gt;\n",
       "        `&lt;tr&gt;\n",
       "            &lt;th&gt;${aliases[i]}&lt;/th&gt;\n",
       "            \n",
       "            &lt;td&gt;${handleObject(layer.feature.properties[v])}&lt;/td&gt;\n",
       "        &lt;/tr&gt;`).join(&#x27;&#x27;))\n",
       "    +&#x27;&lt;/table&gt;&#x27;;\n",
       "    div.innerHTML=table;\n",
       "    \n",
       "    return div\n",
       "    }\n",
       "    ,{&quot;className&quot;: &quot;foliumtooltip&quot;, &quot;sticky&quot;: true});\n",
       "                     \n",
       "    \n",
       "            map_f16bff025574391070222dd2e5324c78.fitBounds(\n",
       "                [[-36.87755, 174.733802], [-36.833364, 174.79288699999998]],\n",
       "                {}\n",
       "            );\n",
       "        \n",
       "&lt;/script&gt;\" style=\"position:absolute;width:100%;height:100%;left:0;top:0;border:none !important;\" allowfullscreen webkitallowfullscreen mozallowfullscreen></iframe></div></div>"
      ],
      "text/plain": [
       "<folium.folium.Map at 0x7ff0dad19a80>"
      ]
     },
     "execution_count": 12,
     "metadata": {},
     "output_type": "execute_result"
    }
   ],
   "source": [
    "sz = pfeed.speed_zones\n",
    "display(sz)\n",
    "\n",
    "m = fl.Map(tiles=\"CartoDB Positron\")\n",
    "fl.GeoJson(\n",
    "#     sz[lambda x: x.route_type == 3],\n",
    "    sz,\n",
    "    tooltip=fl.GeoJsonTooltip([\"speed_zone_id\", \"speed\"])\n",
    ").add_to(m)\n",
    "\n",
    "bounds = sz.total_bounds\n",
    "bounds = [(bounds[1], bounds[0]), (bounds[3], bounds[2])]  # rearrange for Folium\n",
    "m.fit_bounds(bounds)\n",
    "m"
   ]
  },
  {
   "cell_type": "code",
   "execution_count": 16,
   "metadata": {},
   "outputs": [],
   "source": [
    "pfeed.speed_zones.route_type.iat[0] = 3"
   ]
  },
  {
   "cell_type": "code",
   "execution_count": 18,
   "metadata": {},
   "outputs": [],
   "source": [
    "feed = mg.build_feed(pfeed, stop_offset=0)"
   ]
  },
  {
   "cell_type": "code",
   "execution_count": null,
   "metadata": {},
   "outputs": [],
   "source": [
    "f = (\n",
    "    feed.routes[['route_id', 'route_short_name']]\n",
    "    .merge(pfeed.frequencies)\n",
    "    .merge(pfeed.service_windows)\n",
    "    .sort_values('route_id')\n",
    ")\n",
    "f"
   ]
  },
  {
   "cell_type": "code",
   "execution_count": null,
   "metadata": {},
   "outputs": [],
   "source": []
  },
  {
   "cell_type": "code",
   "execution_count": null,
   "metadata": {},
   "outputs": [],
   "source": [
    "# Map some trips\n",
    "prefix = 't-rB-weekday_peak_1-07:00:00'\n",
    "t = (\n",
    "    feed.trips\n",
    "    .loc[lambda x: x.trip_id.str.startswith(prefix)]\n",
    ")\n",
    "tids = [t.trip_id.iat[0], t.trip_id.iat[-1]]\n",
    "feed.map_trips(tids, include_arrows=True, include_stops=True)\n",
    "    "
   ]
  },
  {
   "cell_type": "code",
   "execution_count": null,
   "metadata": {},
   "outputs": [],
   "source": []
  }
 ],
 "metadata": {
  "kernelspec": {
   "display_name": "Python 3 (ipykernel)",
   "language": "python",
   "name": "python3"
  },
  "language_info": {
   "codemirror_mode": {
    "name": "ipython",
    "version": 3
   },
   "file_extension": ".py",
   "mimetype": "text/x-python",
   "name": "python",
   "nbconvert_exporter": "python",
   "pygments_lexer": "ipython3",
   "version": "3.10.4"
  }
 },
 "nbformat": 4,
 "nbformat_minor": 1
}
