{
 "cells": [
  {
   "cell_type": "code",
   "execution_count": null,
   "metadata": {},
   "outputs": [],
   "source": [
    "import sys\n",
    "from pathlib import Path\n",
    "import functools as ft\n",
    "import warnings\n",
    "\n",
    "import pandas as pd\n",
    "import numpy as np\n",
    "import geopandas as gpd\n",
    "import gtfs_kit as gk\n",
    "import shapely\n",
    "import shapely.geometry as sg\n",
    "import geo_kit as geo\n",
    "import folium as fl\n",
    "\n",
    "sys.path.append('../')\n",
    "\n",
    "import make_gtfs as mg\n",
    "\n",
    "\n",
    "DATA_DIR = Path('../data')\n",
    "\n",
    "%load_ext autoreload\n",
    "%autoreload 2\n",
    "warnings.filterwarnings(action='ignore')"
   ]
  },
  {
   "cell_type": "code",
   "execution_count": null,
   "metadata": {},
   "outputs": [],
   "source": [
    "path = DATA_DIR / 'auckland'\n",
    "pfeed = mg.read_protofeed(path)\n",
    "display(pfeed)\n",
    "\n"
   ]
  },
  {
   "cell_type": "code",
   "execution_count": null,
   "metadata": {},
   "outputs": [],
   "source": [
    "#speed_zones = gpd.read_file(DATA_DIR / \"auckland/speed_zones.geojson\")\n",
    "speed_zones = pfeed.speed_zones\n",
    "# speed_zones[\"route_type\"] = 3\n",
    "# speed_zones[\"zone_id\"] = [str(i) for i in range(speed_zones.shape[0])]\n",
    "display(speed_zones)\n",
    "\n"
   ]
  },
  {
   "cell_type": "code",
   "execution_count": null,
   "metadata": {},
   "outputs": [],
   "source": [
    "m = geo.plot(\n",
    "    pfeed.speed_zones.loc[lambda x: x.route_type == 3], \n",
    "    color_by=\"speed_zone_id\", \n",
    "    add_layer_control=False,\n",
    ")\n",
    "m"
   ]
  },
  {
   "cell_type": "code",
   "execution_count": null,
   "metadata": {},
   "outputs": [],
   "source": [
    "shapes = mg.build_shapes(pfeed)\n",
    "speed_zones = pfeed.speed_zones.loc[lambda x: x.route_type == 3]\n",
    "\n",
    "shape_point_speeds = mg.compute_shape_point_speeds(shapes, speed_zones, 3)\n",
    "display(shape_point_speeds.head(30))\n"
   ]
  },
  {
   "cell_type": "code",
   "execution_count": null,
   "metadata": {},
   "outputs": [],
   "source": [
    "g = (\n",
    "    pd.concat([gk.geometrize_shapes_0(shapes), pfeed.speed_zones.loc[lambda x: x.route_type == 3]])\n",
    "    .assign(uid=lambda x: x.speed_zone_id.fillna(x.shape_id))\n",
    ")          \n",
    "style_fn = lambda feature: {\n",
    "    \"weight\": 2,\n",
    "    \"fillOpacity\": 0.3,\n",
    "    \"opacity\": 1,\n",
    "    \"color\": feature[\"properties\"][\"_color\"],\n",
    "    \"fillColor\": feature[\"properties\"][\"_color\"],\n",
    "}\n",
    "geo.plot(g, group_by=\"uid\", color_by=\"uid\", style_function=style_fn)\n"
   ]
  },
  {
   "cell_type": "code",
   "execution_count": null,
   "metadata": {},
   "outputs": [],
   "source": [
    "stops = mg.build_stops(pfeed)\n",
    "stops_g = gk.geometrize_stops_0(stops, use_utm=True)\n",
    "shapes_gi = gk.geometrize_shapes_0(shapes, use_utm=True).set_index(\"shape_id\")\n",
    "trip_id = \"bingo\"\n",
    "shape_id = shapes_gi.index[0]\n",
    "linestring = shapes_gi.loc[shape_id].geometry\n",
    "stops_g_nearby = mg.get_stops_nearby(stops_g, linestring, \"left\")\n",
    "route_type = 3\n",
    "sz = gpd.GeoDataFrame(\n",
    "    [{\"speed\": np.inf, \"route_type\": 3}], \n",
    "    geometry=[sg.box(*linestring.bounds).buffer(10)], \n",
    "    crs=stops_g.crs,\n",
    ")\n",
    "shape_point_speeds = mg.compute_shape_point_speeds(shapes, sz, 3)\n",
    "\n",
    "st = mg.build_stop_times_for_trip(\n",
    "    \"bingo\", \n",
    "    stops_g_nearby, \n",
    "    shape_id, \n",
    "    linestring, \n",
    "    sz,\n",
    "    route_type,\n",
    "    shape_point_speeds, \n",
    "    default_speed=2, \n",
    "    start_time=0,\n",
    ")\n",
    "display(st)\n",
    "\n",
    "speed = (\n",
    "    3.6 * (st.shape_dist_traveled.iat[-1] - st.shape_dist_traveled.iat[0])\n",
    "    / st.departure_time.iat[-1]\n",
    ")\n",
    "speed"
   ]
  },
  {
   "cell_type": "code",
   "execution_count": null,
   "metadata": {},
   "outputs": [],
   "source": [
    "agency = mg.build_agency(pfeed)\n",
    "calendar, service_by_window = mg.build_calendar_etc(pfeed)\n",
    "routes = mg.build_routes(pfeed)\n",
    "shapes = mg.build_shapes(pfeed)\n",
    "stops = mg.build_stops(pfeed, shapes)\n",
    "trips = mg.build_trips(pfeed, routes, service_by_window)\n",
    "\n",
    "%time st = mg.build_stop_times(pfeed, routes, shapes, stops, trips)\n",
    "\n",
    "st"
   ]
  },
  {
   "cell_type": "code",
   "execution_count": null,
   "metadata": {},
   "outputs": [],
   "source": [
    "feed = mg.build_feed(pfeed)\n",
    "ts = feed.compute_trip_stats()\n",
    "ts.speed.value_counts()"
   ]
  },
  {
   "cell_type": "code",
   "execution_count": null,
   "metadata": {},
   "outputs": [],
   "source": [
    "# Map some trips\n",
    "prefix = 't-rB-weekday_peak_1-07:00:00'\n",
    "t = (\n",
    "    feed.trips\n",
    "    .loc[lambda x: x.trip_id.str.startswith(prefix)]\n",
    ")\n",
    "trip_id = t.trip_id.iat[0]\n",
    "\n"
   ]
  },
  {
   "cell_type": "code",
   "execution_count": null,
   "metadata": {},
   "outputs": [],
   "source": [
    "# Map some trips\n",
    "prefix = 't-rB-weekday_peak_1-07:00:00'\n",
    "t = (\n",
    "    feed.trips\n",
    "    .loc[lambda x: x.trip_id.str.startswith(prefix)]\n",
    ")\n",
    "tids = [t.trip_id.iat[0]]\n",
    "feed.map_trips(tids, include_arrows=True, include_stops=True)\n",
    "    "
   ]
  },
  {
   "cell_type": "code",
   "execution_count": null,
   "metadata": {},
   "outputs": [],
   "source": []
  }
 ],
 "metadata": {
  "kernelspec": {
   "display_name": "Python 3 (ipykernel)",
   "language": "python",
   "name": "python3"
  },
  "language_info": {
   "codemirror_mode": {
    "name": "ipython",
    "version": 3
   },
   "file_extension": ".py",
   "mimetype": "text/x-python",
   "name": "python",
   "nbconvert_exporter": "python",
   "pygments_lexer": "ipython3",
   "version": "3.10.4"
  }
 },
 "nbformat": 4,
 "nbformat_minor": 1
}
